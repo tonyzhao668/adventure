{
 "cells": [
  {
   "cell_type": "code",
   "execution_count": 1,
   "metadata": {},
   "outputs": [],
   "source": [
    "#Adventure Project\n",
    "# Dependencies\n",
    "import csv\n",
    "import numpy as np\n",
    "import pandas as pd\n",
    "import requests\n",
    "from scipy import stats as st\n",
    "from matplotlib import pyplot as plt\n",
    "#from config import (api_key, gkey) #api_key\n"
   ]
  },
  {
   "cell_type": "code",
   "execution_count": 2,
   "metadata": {},
   "outputs": [],
   "source": [
    "#wish our team has a cool success"
   ]
  },
  {
   "cell_type": "code",
   "execution_count": 3,
   "metadata": {},
   "outputs": [],
   "source": [
    "#Our yearly span is 2012 - 2018, two charts each, with conclusions' comments."
   ]
  },
  {
   "cell_type": "code",
   "execution_count": 4,
   "metadata": {},
   "outputs": [],
   "source": [
    "#Australian population vs employment over age groupes "
   ]
  },
  {
   "cell_type": "code",
   "execution_count": 5,
   "metadata": {},
   "outputs": [],
   "source": [
    "#Australian population vs employment over gender groupes"
   ]
  },
  {
   "cell_type": "code",
   "execution_count": 6,
   "metadata": {},
   "outputs": [
    {
     "data": {
      "text/html": [
       "<div>\n",
       "<style scoped>\n",
       "    .dataframe tbody tr th:only-of-type {\n",
       "        vertical-align: middle;\n",
       "    }\n",
       "\n",
       "    .dataframe tbody tr th {\n",
       "        vertical-align: top;\n",
       "    }\n",
       "\n",
       "    .dataframe thead th {\n",
       "        text-align: right;\n",
       "    }\n",
       "</style>\n",
       "<table border=\"1\" class=\"dataframe\">\n",
       "  <thead>\n",
       "    <tr style=\"text-align: right;\">\n",
       "      <th>Year</th>\n",
       "      <th>2012</th>\n",
       "      <th>2013</th>\n",
       "      <th>2014</th>\n",
       "      <th>2015</th>\n",
       "      <th>2016</th>\n",
       "      <th>2017</th>\n",
       "      <th>2018</th>\n",
       "    </tr>\n",
       "  </thead>\n",
       "  <tbody>\n",
       "    <tr>\n",
       "      <th>Average Hours worked(m)</th>\n",
       "      <td>1592.5</td>\n",
       "      <td>1607.0</td>\n",
       "      <td>1607.92</td>\n",
       "      <td>1639.67</td>\n",
       "      <td>1660.17</td>\n",
       "      <td>1699.58</td>\n",
       "      <td>1738.25</td>\n",
       "    </tr>\n",
       "  </tbody>\n",
       "</table>\n",
       "</div>"
      ],
      "text/plain": [
       "Year                       2012    2013     2014     2015     2016     2017  \\\n",
       "Average Hours worked(m)  1592.5  1607.0  1607.92  1639.67  1660.17  1699.58   \n",
       "\n",
       "Year                        2018  \n",
       "Average Hours worked(m)  1738.25  "
      ]
     },
     "execution_count": 6,
     "metadata": {},
     "output_type": "execute_result"
    }
   ],
   "source": [
    "#Australian population vs employment over hourly working time\n",
    "\n",
    "\n",
    "\n",
    "population_df = pd.read_csv('resources/populationaus.csv')\n",
    "\n",
    "hours_wkd_df = pd.read_csv('resources/Anual_average_hours_worked_aus.csv')\n",
    "\n",
    "emp_df = pd.read_csv('resources/employment.csv')\n",
    "\n",
    "population_df\n",
    "\n",
    "popaus_df= population_df[['Year','AUS']]\n",
    "\n",
    "popaus_df.set_index('Year',inplace = True)\n",
    "\n",
    "hours_wkd_df.set_index('Year',inplace = True)\n",
    "\n",
    "ch_popaus_df = popaus_df.T\n",
    "ch_popaus_df\n",
    "\n",
    "ch_hours_wkd_df = hours_wkd_df.T\n",
    "\n",
    "ch_hours_wkd_df\n",
    "\n",
    "# emp_df\n",
    "\n",
    "# empaus_df = emp_df[['Year','AUS']]\n",
    "\n",
    "# empaus_df.set_index('Year',inplace= True)\n",
    "\n",
    "# new_df = pd.concat([hours_wkd_df,empaus_df], axis=1)\n",
    "\n",
    "# new_df\n",
    "\n",
    "# new_df['ave hours per employed']=new_df['Average Hours worked(m)']/new_df['AUS']\n",
    "\n",
    "# new_df\n",
    "\n",
    "\n",
    "\n",
    "# ch_empaus_df = empaus_df.T\n",
    "\n",
    "# ch_empaus_df\n",
    "\n",
    "\n",
    "\n",
    "\n",
    "\n",
    "\n"
   ]
  },
  {
   "cell_type": "code",
   "execution_count": 7,
   "metadata": {},
   "outputs": [
    {
     "data": {
      "text/html": [
       "<div>\n",
       "<style scoped>\n",
       "    .dataframe tbody tr th:only-of-type {\n",
       "        vertical-align: middle;\n",
       "    }\n",
       "\n",
       "    .dataframe tbody tr th {\n",
       "        vertical-align: top;\n",
       "    }\n",
       "\n",
       "    .dataframe thead th {\n",
       "        text-align: right;\n",
       "    }\n",
       "</style>\n",
       "<table border=\"1\" class=\"dataframe\">\n",
       "  <thead>\n",
       "    <tr style=\"text-align: right;\">\n",
       "      <th>Year</th>\n",
       "      <th>2012</th>\n",
       "      <th>2013</th>\n",
       "      <th>2014</th>\n",
       "      <th>2015</th>\n",
       "      <th>2016</th>\n",
       "      <th>2017</th>\n",
       "      <th>2018</th>\n",
       "    </tr>\n",
       "  </thead>\n",
       "  <tbody>\n",
       "    <tr>\n",
       "      <th>ave hours per employed</th>\n",
       "      <td>0.139748</td>\n",
       "      <td>0.140745</td>\n",
       "      <td>0.138646</td>\n",
       "      <td>0.137719</td>\n",
       "      <td>0.137927</td>\n",
       "      <td>0.136492</td>\n",
       "      <td>0.136625</td>\n",
       "    </tr>\n",
       "  </tbody>\n",
       "</table>\n",
       "</div>"
      ],
      "text/plain": [
       "Year                        2012      2013      2014      2015      2016  \\\n",
       "ave hours per employed  0.139748  0.140745  0.138646  0.137719  0.137927   \n",
       "\n",
       "Year                        2017      2018  \n",
       "ave hours per employed  0.136492  0.136625  "
      ]
     },
     "execution_count": 7,
     "metadata": {},
     "output_type": "execute_result"
    }
   ],
   "source": [
    "# population_df = pd.read_csv('resources/populationaus.csv')\n",
    "\n",
    "# hours_wkd_df = pd.read_csv('resources/Anual_average_hours_worked_aus.csv')\n",
    "\n",
    "# emp_df = pd.read_csv('resources/employment.csv')\n",
    "\n",
    "# # population_df\n",
    "\n",
    "# # popaus_df= population_df[['Year','AUS']]\n",
    "\n",
    "# # popaus_df.set_index('Year',inplace = True)\n",
    "\n",
    "# hours_wkd_df.set_index('Year',inplace = True)\n",
    "\n",
    "# # ch_popaus_df = popaus_df.T\n",
    "# # ch_popaus_df\n",
    "\n",
    "# # ch_hours_wkd_df = hours_wkd_df.T\n",
    "\n",
    "# # ch_hours_wkd_df\n",
    "\n",
    "emp_df\n",
    "\n",
    "empaus_df = emp_df[['Year','AUS']]\n",
    "\n",
    "empaus_df.set_index('Year',inplace= True)\n",
    "\n",
    "new_df = pd.concat([hours_wkd_df,empaus_df], axis=1)\n",
    "\n",
    "new_df\n",
    "\n",
    "new_df['ave hours per employed']=new_df['Average Hours worked(m)']/new_df['AUS']\n",
    "\n",
    "new_df\n",
    "ch_new_df=pd.DataFrame(new_df['ave hours per employed'])\n",
    "\n",
    "ch_new_df\n",
    "\n",
    "re_new_df = ch_new_df.T\n",
    "\n",
    "re_new_df"
   ]
  },
  {
   "cell_type": "code",
   "execution_count": null,
   "metadata": {},
   "outputs": [],
   "source": []
  },
  {
   "cell_type": "code",
   "execution_count": 8,
   "metadata": {},
   "outputs": [
    {
     "data": {
      "text/html": [
       "<div>\n",
       "<style scoped>\n",
       "    .dataframe tbody tr th:only-of-type {\n",
       "        vertical-align: middle;\n",
       "    }\n",
       "\n",
       "    .dataframe tbody tr th {\n",
       "        vertical-align: top;\n",
       "    }\n",
       "\n",
       "    .dataframe thead th {\n",
       "        text-align: right;\n",
       "    }\n",
       "</style>\n",
       "<table border=\"1\" class=\"dataframe\">\n",
       "  <thead>\n",
       "    <tr style=\"text-align: right;\">\n",
       "      <th>Year</th>\n",
       "      <th>2012</th>\n",
       "      <th>2013</th>\n",
       "      <th>2014</th>\n",
       "      <th>2015</th>\n",
       "      <th>2016</th>\n",
       "      <th>2017</th>\n",
       "      <th>2018</th>\n",
       "      <th>2013%</th>\n",
       "      <th>2014%</th>\n",
       "      <th>2015%</th>\n",
       "      <th>2016%</th>\n",
       "      <th>2017%</th>\n",
       "      <th>2018%</th>\n",
       "    </tr>\n",
       "  </thead>\n",
       "  <tbody>\n",
       "    <tr>\n",
       "      <th>ave hours per employed</th>\n",
       "      <td>0.139748</td>\n",
       "      <td>0.140745</td>\n",
       "      <td>0.138646</td>\n",
       "      <td>0.137719</td>\n",
       "      <td>0.137927</td>\n",
       "      <td>0.136492</td>\n",
       "      <td>0.136625</td>\n",
       "      <td>0.71</td>\n",
       "      <td>0.71</td>\n",
       "      <td>0.71</td>\n",
       "      <td>0.71</td>\n",
       "      <td>0.71</td>\n",
       "      <td>0.71</td>\n",
       "    </tr>\n",
       "  </tbody>\n",
       "</table>\n",
       "</div>"
      ],
      "text/plain": [
       "Year                        2012      2013      2014      2015      2016  \\\n",
       "ave hours per employed  0.139748  0.140745  0.138646  0.137719  0.137927   \n",
       "\n",
       "Year                        2017      2018  2013%  2014%  2015%  2016%  2017%  \\\n",
       "ave hours per employed  0.136492  0.136625   0.71   0.71   0.71   0.71   0.71   \n",
       "\n",
       "Year                    2018%  \n",
       "ave hours per employed   0.71  "
      ]
     },
     "execution_count": 8,
     "metadata": {},
     "output_type": "execute_result"
    }
   ],
   "source": [
    "# Calculating percentage change in hours worked per employed comparded 2012\n",
    "\n",
    "re_new_df['2013%'] = round((re_new_df[2013]-re_new_df[2012])*100/re_new_df[2012],2)\n",
    "\n",
    "re_new_df['2014%'] =  round((re_new_df[2013]-re_new_df[2012])*100/re_new_df[2012],2)\n",
    "re_new_df['2015%'] =  round((re_new_df[2013]-re_new_df[2012])*100/re_new_df[2012],2)\n",
    "re_new_df['2016%'] =  round((re_new_df[2013]-re_new_df[2012])*100/re_new_df[2012],2)\n",
    "\n",
    "re_new_df['2017%'] =  round((re_new_df[2013]-re_new_df[2012])*100/re_new_df[2012],2)\n",
    "\n",
    "re_new_df['2018%'] =  round((re_new_df[2013]-re_new_df[2012])*100/re_new_df[2012],2)\n",
    "\n",
    "re_new_df.head()\n",
    "\n",
    "\n"
   ]
  },
  {
   "cell_type": "code",
   "execution_count": 9,
   "metadata": {},
   "outputs": [
    {
     "data": {
      "text/html": [
       "<div>\n",
       "<style scoped>\n",
       "    .dataframe tbody tr th:only-of-type {\n",
       "        vertical-align: middle;\n",
       "    }\n",
       "\n",
       "    .dataframe tbody tr th {\n",
       "        vertical-align: top;\n",
       "    }\n",
       "\n",
       "    .dataframe thead th {\n",
       "        text-align: right;\n",
       "    }\n",
       "</style>\n",
       "<table border=\"1\" class=\"dataframe\">\n",
       "  <thead>\n",
       "    <tr style=\"text-align: right;\">\n",
       "      <th>Year</th>\n",
       "      <th>2012</th>\n",
       "      <th>2013</th>\n",
       "      <th>2014</th>\n",
       "      <th>2015</th>\n",
       "      <th>2016</th>\n",
       "      <th>2017</th>\n",
       "      <th>2018</th>\n",
       "      <th>2013%</th>\n",
       "      <th>2014%</th>\n",
       "      <th>2015%</th>\n",
       "      <th>2016%</th>\n",
       "      <th>2017%</th>\n",
       "      <th>2018%</th>\n",
       "    </tr>\n",
       "  </thead>\n",
       "  <tbody>\n",
       "    <tr>\n",
       "      <th>AUS</th>\n",
       "      <td>22522197</td>\n",
       "      <td>23297777</td>\n",
       "      <td>23640331</td>\n",
       "      <td>23984581</td>\n",
       "      <td>24389684</td>\n",
       "      <td>24773350</td>\n",
       "      <td>25171291</td>\n",
       "      <td>3.44</td>\n",
       "      <td>4.96</td>\n",
       "      <td>6.49</td>\n",
       "      <td>8.29</td>\n",
       "      <td>10.0</td>\n",
       "      <td>8.29</td>\n",
       "    </tr>\n",
       "  </tbody>\n",
       "</table>\n",
       "</div>"
      ],
      "text/plain": [
       "Year      2012      2013      2014      2015      2016      2017      2018  \\\n",
       "AUS   22522197  23297777  23640331  23984581  24389684  24773350  25171291   \n",
       "\n",
       "Year  2013%  2014%  2015%  2016%  2017%  2018%  \n",
       "AUS    3.44   4.96   6.49   8.29   10.0   8.29  "
      ]
     },
     "execution_count": 9,
     "metadata": {},
     "output_type": "execute_result"
    }
   ],
   "source": [
    "# Calculating percentage change in population compared to 2012\n",
    "\n",
    "ch_popaus_df['2013%'] = round((ch_popaus_df[2013]-ch_popaus_df[2012])*100/ch_popaus_df[2012],2)\n",
    "\n",
    "ch_popaus_df['2014%'] = round((ch_popaus_df[2014]-ch_popaus_df[2012])*100/ch_popaus_df[2012],2)\n",
    "\n",
    "ch_popaus_df['2015%'] = round((ch_popaus_df[2015]-ch_popaus_df[2012])*100/ch_popaus_df[2012],2)\n",
    "\n",
    "ch_popaus_df['2016%'] = round((ch_popaus_df[2016]-ch_popaus_df[2012])*100/ch_popaus_df[2012],2)\n",
    "\n",
    "ch_popaus_df['2017%'] = round((ch_popaus_df[2017]-ch_popaus_df[2012])*100/ch_popaus_df[2012],2)\n",
    "\n",
    "ch_popaus_df['2018%'] = round((ch_popaus_df[2016]-ch_popaus_df[2012])*100/ch_popaus_df[2012],2)\n",
    "\n",
    "ch_popaus_df.head()\n",
    "\n"
   ]
  },
  {
   "cell_type": "code",
   "execution_count": 10,
   "metadata": {},
   "outputs": [
    {
     "data": {
      "text/html": [
       "<div>\n",
       "<style scoped>\n",
       "    .dataframe tbody tr th:only-of-type {\n",
       "        vertical-align: middle;\n",
       "    }\n",
       "\n",
       "    .dataframe tbody tr th {\n",
       "        vertical-align: top;\n",
       "    }\n",
       "\n",
       "    .dataframe thead th {\n",
       "        text-align: right;\n",
       "    }\n",
       "</style>\n",
       "<table border=\"1\" class=\"dataframe\">\n",
       "  <thead>\n",
       "    <tr style=\"text-align: right;\">\n",
       "      <th>Year</th>\n",
       "      <th>2012</th>\n",
       "      <th>2013</th>\n",
       "      <th>2014</th>\n",
       "      <th>2015</th>\n",
       "      <th>2016</th>\n",
       "      <th>2017</th>\n",
       "      <th>2018</th>\n",
       "      <th>2013%</th>\n",
       "      <th>2014%</th>\n",
       "      <th>2015%</th>\n",
       "      <th>2016%</th>\n",
       "      <th>2017%</th>\n",
       "      <th>2018%</th>\n",
       "    </tr>\n",
       "  </thead>\n",
       "  <tbody>\n",
       "    <tr>\n",
       "      <th>Average Hours worked(m)</th>\n",
       "      <td>1592.5</td>\n",
       "      <td>1607.0</td>\n",
       "      <td>1607.92</td>\n",
       "      <td>1639.67</td>\n",
       "      <td>1660.17</td>\n",
       "      <td>1699.58</td>\n",
       "      <td>1738.25</td>\n",
       "      <td>0.91</td>\n",
       "      <td>0.97</td>\n",
       "      <td>2.96</td>\n",
       "      <td>4.25</td>\n",
       "      <td>6.72</td>\n",
       "      <td>9.15</td>\n",
       "    </tr>\n",
       "  </tbody>\n",
       "</table>\n",
       "</div>"
      ],
      "text/plain": [
       "Year                       2012    2013     2014     2015     2016     2017  \\\n",
       "Average Hours worked(m)  1592.5  1607.0  1607.92  1639.67  1660.17  1699.58   \n",
       "\n",
       "Year                        2018  2013%  2014%  2015%  2016%  2017%  2018%  \n",
       "Average Hours worked(m)  1738.25   0.91   0.97   2.96   4.25   6.72   9.15  "
      ]
     },
     "execution_count": 10,
     "metadata": {},
     "output_type": "execute_result"
    }
   ],
   "source": [
    "ch_hours_wkd_df['2013%'] = round((ch_hours_wkd_df[2013]-ch_hours_wkd_df[2012])*100/ch_hours_wkd_df[2012],2)\n",
    "\n",
    "ch_hours_wkd_df['2014%'] = round((ch_hours_wkd_df[2014]-ch_hours_wkd_df[2012])*100/ch_hours_wkd_df[2012],2)\n",
    "\n",
    "ch_hours_wkd_df['2015%'] = round((ch_hours_wkd_df[2015]-ch_hours_wkd_df[2012])*100/ch_hours_wkd_df[2012],2)\n",
    "\n",
    "ch_hours_wkd_df['2016%'] = round((ch_hours_wkd_df[2016]-ch_hours_wkd_df[2012])*100/ch_hours_wkd_df[2012],2)\n",
    "\n",
    "ch_hours_wkd_df['2017%'] = round((ch_hours_wkd_df[2017]-ch_hours_wkd_df[2012])*100/ch_hours_wkd_df[2012],2)\n",
    "\n",
    "ch_hours_wkd_df['2018%'] = round((ch_hours_wkd_df[2018]-ch_hours_wkd_df[2012])*100/ch_hours_wkd_df[2012],2)\n",
    "\n",
    "\n",
    "ch_hours_wkd_df"
   ]
  },
  {
   "cell_type": "code",
   "execution_count": 11,
   "metadata": {},
   "outputs": [
    {
     "data": {
      "image/png": "[encoded data removed]",
      "text/plain": [
       "<Figure size 432x288 with 1 Axes>"
      ]
     },
     "metadata": {
      "needs_background": "light"
     },
     "output_type": "display_data"
    }
   ],
   "source": [
    "hr_plt_df = ch_hours_wkd_df[['2013%','2014%','2015%','2016%','2017%','2018%']]\n",
    "\n",
    "pop_change = ch_popaus_df[['2013%','2014%','2015%','2016%','2017%','2018%']]\n",
    "\n",
    "ind_hour_df = re_new_df[['2013%','2014%','2015%','2016%','2017%','2018%']]\n",
    "\n",
    "pop_plt_df = pop_change.T\n",
    "\n",
    "hr_plt_df = hr_plt_df.T\n",
    "\n",
    "ind_hour_df = ind_hour_df.T\n",
    "\n",
    "\n",
    "plt.plot(pop_plt_df,label='change in population')\n",
    "\n",
    "plt.plot(ind_hour_df,label='changes in hours worked per employed')\n",
    "\n",
    "plt.plot(hr_plt_df,label='change in hours worked')\n",
    "plt.title('Changes in Australian population vs Average total ours worked compared to 2012')\n",
    "plt.xlabel('Years')\n",
    "plt.ylabel('Percentage Changes compared 2012')\n",
    "plt.legend(loc='best')\n",
    "plt.savefig('results/Change in population vs average hours worked ')\n",
    "\n",
    "plt.show()\n"
   ]
  },
  {
   "cell_type": "code",
   "execution_count": 12,
   "metadata": {},
   "outputs": [
    {
     "data": {
      "text/html": [
       "<div>\n",
       "<style scoped>\n",
       "    .dataframe tbody tr th:only-of-type {\n",
       "        vertical-align: middle;\n",
       "    }\n",
       "\n",
       "    .dataframe tbody tr th {\n",
       "        vertical-align: top;\n",
       "    }\n",
       "\n",
       "    .dataframe thead th {\n",
       "        text-align: right;\n",
       "    }\n",
       "</style>\n",
       "<table border=\"1\" class=\"dataframe\">\n",
       "  <thead>\n",
       "    <tr style=\"text-align: right;\">\n",
       "      <th></th>\n",
       "      <th>AUS</th>\n",
       "      <th>Average Hours worked(m)</th>\n",
       "      <th>hours per population changes</th>\n",
       "    </tr>\n",
       "    <tr>\n",
       "      <th>Year</th>\n",
       "      <th></th>\n",
       "      <th></th>\n",
       "      <th></th>\n",
       "    </tr>\n",
       "  </thead>\n",
       "  <tbody>\n",
       "    <tr>\n",
       "      <th>2013%</th>\n",
       "      <td>3.44</td>\n",
       "      <td>0.91</td>\n",
       "      <td>26.45</td>\n",
       "    </tr>\n",
       "    <tr>\n",
       "      <th>2014%</th>\n",
       "      <td>4.96</td>\n",
       "      <td>0.97</td>\n",
       "      <td>19.56</td>\n",
       "    </tr>\n",
       "    <tr>\n",
       "      <th>2015%</th>\n",
       "      <td>6.49</td>\n",
       "      <td>2.96</td>\n",
       "      <td>45.61</td>\n",
       "    </tr>\n",
       "    <tr>\n",
       "      <th>2016%</th>\n",
       "      <td>8.29</td>\n",
       "      <td>4.25</td>\n",
       "      <td>51.27</td>\n",
       "    </tr>\n",
       "    <tr>\n",
       "      <th>2017%</th>\n",
       "      <td>10.00</td>\n",
       "      <td>6.72</td>\n",
       "      <td>67.20</td>\n",
       "    </tr>\n",
       "    <tr>\n",
       "      <th>2018%</th>\n",
       "      <td>8.29</td>\n",
       "      <td>9.15</td>\n",
       "      <td>110.37</td>\n",
       "    </tr>\n",
       "  </tbody>\n",
       "</table>\n",
       "</div>"
      ],
      "text/plain": [
       "         AUS  Average Hours worked(m)  hours per population changes\n",
       "Year                                                               \n",
       "2013%   3.44                     0.91                         26.45\n",
       "2014%   4.96                     0.97                         19.56\n",
       "2015%   6.49                     2.96                         45.61\n",
       "2016%   8.29                     4.25                         51.27\n",
       "2017%  10.00                     6.72                         67.20\n",
       "2018%   8.29                     9.15                        110.37"
      ]
     },
     "execution_count": 12,
     "metadata": {},
     "output_type": "execute_result"
    }
   ],
   "source": [
    "# Change in hours average worked annulay compared to 2012 as a percentage of Changes in annual population compared to 2012\n",
    "\n",
    "hours_comp_df = pd.concat([pop_plt_df, hr_plt_df], axis=1)\n",
    "\n",
    "hours_comp_df\n",
    "\n",
    "hours_comp_df['hours per population changes']=round((hours_comp_df['Average Hours worked(m)']*100/hours_comp_df['AUS']),2)\n",
    "\n",
    "hours_comp_df"
   ]
  },
  {
   "cell_type": "code",
   "execution_count": 13,
   "metadata": {},
   "outputs": [
    {
     "data": {
      "text/html": [
       "<div>\n",
       "<style scoped>\n",
       "    .dataframe tbody tr th:only-of-type {\n",
       "        vertical-align: middle;\n",
       "    }\n",
       "\n",
       "    .dataframe tbody tr th {\n",
       "        vertical-align: top;\n",
       "    }\n",
       "\n",
       "    .dataframe thead th {\n",
       "        text-align: right;\n",
       "    }\n",
       "</style>\n",
       "<table border=\"1\" class=\"dataframe\">\n",
       "  <thead>\n",
       "    <tr style=\"text-align: right;\">\n",
       "      <th></th>\n",
       "      <th>AUS</th>\n",
       "      <th>Average Hours worked(m)</th>\n",
       "      <th>ave hours per employed</th>\n",
       "    </tr>\n",
       "    <tr>\n",
       "      <th>Year</th>\n",
       "      <th></th>\n",
       "      <th></th>\n",
       "      <th></th>\n",
       "    </tr>\n",
       "  </thead>\n",
       "  <tbody>\n",
       "    <tr>\n",
       "      <th>2013%</th>\n",
       "      <td>3.44</td>\n",
       "      <td>0.91</td>\n",
       "      <td>0.71</td>\n",
       "    </tr>\n",
       "    <tr>\n",
       "      <th>2014%</th>\n",
       "      <td>4.96</td>\n",
       "      <td>0.97</td>\n",
       "      <td>0.71</td>\n",
       "    </tr>\n",
       "    <tr>\n",
       "      <th>2015%</th>\n",
       "      <td>6.49</td>\n",
       "      <td>2.96</td>\n",
       "      <td>0.71</td>\n",
       "    </tr>\n",
       "    <tr>\n",
       "      <th>2016%</th>\n",
       "      <td>8.29</td>\n",
       "      <td>4.25</td>\n",
       "      <td>0.71</td>\n",
       "    </tr>\n",
       "    <tr>\n",
       "      <th>2017%</th>\n",
       "      <td>10.00</td>\n",
       "      <td>6.72</td>\n",
       "      <td>0.71</td>\n",
       "    </tr>\n",
       "    <tr>\n",
       "      <th>2018%</th>\n",
       "      <td>8.29</td>\n",
       "      <td>9.15</td>\n",
       "      <td>0.71</td>\n",
       "    </tr>\n",
       "  </tbody>\n",
       "</table>\n",
       "</div>"
      ],
      "text/plain": [
       "         AUS  Average Hours worked(m)  ave hours per employed\n",
       "Year                                                         \n",
       "2013%   3.44                     0.91                    0.71\n",
       "2014%   4.96                     0.97                    0.71\n",
       "2015%   6.49                     2.96                    0.71\n",
       "2016%   8.29                     4.25                    0.71\n",
       "2017%  10.00                     6.72                    0.71\n",
       "2018%   8.29                     9.15                    0.71"
      ]
     },
     "execution_count": 13,
     "metadata": {},
     "output_type": "execute_result"
    }
   ],
   "source": [
    "cor_emp_df = pd.concat([pop_plt_df,hr_plt_df,ind_hour_df], axis=1)\n",
    "\n",
    "cor_emp_df"
   ]
  },
  {
   "cell_type": "code",
   "execution_count": 14,
   "metadata": {},
   "outputs": [
    {
     "name": "stdout",
     "output_type": "stream",
     "text": [
      "The correlation between changes in population and average hours worked compared to 2012 is 0.83\n"
     ]
    },
    {
     "data": {
      "text/plain": [
       "<function matplotlib.pyplot.show(*args, **kw)>"
      ]
     },
     "execution_count": 14,
     "metadata": {},
     "output_type": "execute_result"
    },
    {
     "data": {
      "image/png": "[encoded data removed]",
      "text/plain": [
       "<Figure size 432x288 with 1 Axes>"
      ]
     },
     "metadata": {
      "needs_background": "light"
     },
     "output_type": "display_data"
    }
   ],
   "source": [
    "# Correlation between change in Population and change in average hours worked compared to 2012\n",
    "\n",
    "\n",
    "plt.scatter(cor_emp_df.iloc[:,0],cor_emp_df.iloc[:,1])\n",
    "\n",
    "population_change = cor_emp_df.iloc[:,0]\n",
    "\n",
    "hours_wkd_change = cor_emp_df.iloc[:,1]\n",
    "\n",
    "correlation = st.pearsonr(population_change,hours_wkd_change)\n",
    "\n",
    "plt.xlabel('Change in population compared to 2012')\n",
    "\n",
    "plt.ylabel('Change in average hours worked compared to 2012')\n",
    "\n",
    "print(f'The correlation between changes in population and average hours worked compared to 2012 is {round(correlation[0],2)}')\n",
    "\n",
    "plt.savefig('results/Change population vs hours worked')\n",
    "\n",
    "plt.show"
   ]
  },
  {
   "cell_type": "code",
   "execution_count": 15,
   "metadata": {},
   "outputs": [
    {
     "name": "stdout",
     "output_type": "stream",
     "text": [
      "The correlation between changes in population and average hours worked per individuals employed compared to 2012 is nan\n"
     ]
    },
    {
     "name": "stderr",
     "output_type": "stream",
     "text": [
      "C:\\Users\\User\\anaconda3\\envs\\PythonData\\lib\\site-packages\\scipy\\stats\\stats.py:3845: PearsonRConstantInputWarning: An input array is constant; the correlation coefficent is not defined.\n",
      "  warnings.warn(PearsonRConstantInputWarning())\n"
     ]
    },
    {
     "data": {
      "text/plain": [
       "<function matplotlib.pyplot.show(*args, **kw)>"
      ]
     },
     "execution_count": 15,
     "metadata": {},
     "output_type": "execute_result"
    },
    {
     "data": {
      "image/png": "[encoded data removed]",
      "text/plain": [
       "<Figure size 432x288 with 1 Axes>"
      ]
     },
     "metadata": {
      "needs_background": "light"
     },
     "output_type": "display_data"
    }
   ],
   "source": [
    "# Correlation between change in population and change in average hours worked per number of people employed compared 2012\n",
    "\n",
    "\n",
    "plt.scatter(cor_emp_df.iloc[:,0],cor_emp_df.iloc[:,2])\n",
    "\n",
    "population_change = cor_emp_df.iloc[:,0]\n",
    "\n",
    "indv_hours_change = cor_emp_df.iloc[:,2]\n",
    "\n",
    "correlation = st.pearsonr(population_change,indv_hours_change)\n",
    "\n",
    "plt.xlabel('Change in population compared to 2012')\n",
    "\n",
    "plt.ylabel('Change in average hours worked per individuals employed compared to 2012')\n",
    "\n",
    "print(f'The correlation between changes in population and average hours worked per individuals employed compared to 2012 is {round(correlation[0],2)}')\n",
    "\n",
    "plt.savefig('results/Change population vs hours worked per individuals employed')\n",
    "\n",
    "plt.show"
   ]
  },
  {
   "cell_type": "code",
   "execution_count": 16,
   "metadata": {},
   "outputs": [
    {
     "name": "stdout",
     "output_type": "stream",
     "text": [
      "The correlation between changes in averge hours worked and average hours worked per individuals employed compared to 2012 is nan\n"
     ]
    },
    {
     "data": {
      "text/plain": [
       "<function matplotlib.pyplot.show(*args, **kw)>"
      ]
     },
     "execution_count": 16,
     "metadata": {},
     "output_type": "execute_result"
    },
    {
     "data": {
      "image/png": "[encoded data removed]",
      "text/plain": [
       "<Figure size 432x288 with 1 Axes>"
      ]
     },
     "metadata": {
      "needs_background": "light"
     },
     "output_type": "display_data"
    }
   ],
   "source": [
    "# Correlation between change in average hours worked per annum and change in average hours worked per number of people employed compared 2012\n",
    "\n",
    "plt.scatter(cor_emp_df.iloc[:,1],cor_emp_df.iloc[:,2])\n",
    "\n",
    "hours_wkd_change = cor_emp_df.iloc[:,1]\n",
    "\n",
    "indv_hours_change = cor_emp_df.iloc[:,2]\n",
    "\n",
    "correlation = st.pearsonr(hours_wkd_change,indv_hours_change)\n",
    "\n",
    "plt.xlabel('Change in average hours worked compared to 2012')\n",
    "\n",
    "plt.ylabel('Change in average hours worked per individuals employed compared to 2012')\n",
    "\n",
    "print(f'The correlation between changes in averge hours worked and average hours worked per individuals employed compared to 2012 is {round(correlation[0],2)}')\n",
    "\n",
    "plt.savefig('results/Change average hours worked vs hours worked per individuals employed')\n",
    "\n",
    "plt.show"
   ]
  },
  {
   "cell_type": "code",
   "execution_count": 17,
   "metadata": {},
   "outputs": [],
   "source": [
    "#Australian population vs unemployment over industries"
   ]
  },
  {
   "cell_type": "code",
   "execution_count": null,
   "metadata": {},
   "outputs": [],
   "source": []
  },
  {
   "cell_type": "code",
   "execution_count": null,
   "metadata": {},
   "outputs": [],
   "source": [
    "#Australian population vs employment over states/territories\n",
    "\n"
   ]
  }
 ],
 "metadata": {
  "kernelspec": {
   "display_name": "Python 3",
   "language": "python",
   "name": "python3"
  },
  "language_info": {
   "codemirror_mode": {
    "name": "ipython",
    "version": 3
   },
   "file_extension": ".py",
   "mimetype": "text/x-python",
   "name": "python",
   "nbconvert_exporter": "python",
   "pygments_lexer": "ipython3",
   "version": "3.6.10"
  }
 },
 "nbformat": 4,
 "nbformat_minor": 4
}
